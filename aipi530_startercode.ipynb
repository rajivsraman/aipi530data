{
  "nbformat": 4,
  "nbformat_minor": 0,
  "metadata": {
    "colab": {
      "provenance": [],
      "collapsed_sections": [
        "J0YpLO-B4LMt"
      ],
      "authorship_tag": "ABX9TyOmrhgLvX7QqJ3Dp8h/v8AL",
      "include_colab_link": true
    },
    "kernelspec": {
      "name": "python3",
      "display_name": "Python 3"
    },
    "language_info": {
      "name": "python"
    }
  },
  "cells": [
    {
      "cell_type": "markdown",
      "metadata": {
        "id": "view-in-github",
        "colab_type": "text"
      },
      "source": [
        "<a href=\"https://colab.research.google.com/github/rajivsraman/aipi530project/blob/main/aipi530_startercode.ipynb\" target=\"_parent\"><img src=\"https://colab.research.google.com/assets/colab-badge.svg\" alt=\"Open In Colab\"/></a>"
      ]
    },
    {
      "cell_type": "code",
      "source": [
        "import pandas as pd\n",
        "from pyomo.environ import *\n",
        "from pyomo.opt import SolverFactory, SolverStatus, TerminationCondition"
      ],
      "metadata": {
        "id": "CvssJ8C0ubb8"
      },
      "execution_count": 6,
      "outputs": []
    },
    {
      "cell_type": "code",
      "source": [
        "# import the NICU data from the CSV file\n",
        "\n",
        "nicu_data = pd.read_csv(\"https://raw.githubusercontent.com/rajivsraman/aipi530data/refs/heads/main/nicu_orders.csv\")\n",
        "\n",
        "# group the data into each week of deliveries and compute the total demand per each week\n",
        "\n",
        "weekly_demand = nicu_data.groupby('Delivery Date')['Bottle Count'].sum().tolist()\n",
        "\n",
        "# create the model - a concrete model will be sufficient for maximizing our objective function\n",
        "\n",
        "model = ConcreteModel()\n",
        "\n",
        "# generate the set of WEEKS - the number of weeks is determined from the list of dates given in the CSV\n",
        "\n",
        "model.WEEKS = RangeSet(len(weekly_demand))\n",
        "\n",
        "# define the decision variables\n",
        "\n",
        "model.Output = Var(model.WEEKS, domain = NonNegativeIntegers) # number of milk bottles sent out to NICUs and other locations per week\n",
        "model.Process = Var(model.WEEKS, domain = NonNegativeReals) # number of milk bottles processed from raw milk per week (mL)\n",
        "\n",
        "# define the total weekly demand (units: number of bottles) as a parameter\n",
        "\n",
        "model.demand = {w: weekly_demand[w-1] for w in model.WEEKS}\n",
        "\n",
        "# define the variables for tracking different volumes of milk\n",
        "\n",
        "model.iRV = Var(model.WEEKS, domain = NonNegativeReals) # raw volume at the start of week w\n",
        "model.fRV = Var(model.WEEKS, domain = NonNegativeReals) # raw volume at the end of week w\n",
        "model.iBV = Var(model.WEEKS, domain = NonNegativeReals) # bottled volume at the start of week w\n",
        "model.fBV = Var(model.WEEKS, domain = NonNegativeReals) # bottled volume at the end of week w\n",
        "model.fTV = Var(model.WEEKS, domain = NonNegativeReals) # total stored volume at the end of week w\n",
        "\n",
        "# set the constants associated with our optimization problem\n",
        "\n",
        "init_raw_vol = 15000 # initial volume of raw milk before any donations (mL)\n",
        "init_bot_vol = 20000 # initial volume of bottled milk before any donations (mL)\n",
        "raw_donation = 35000 # weekly volume of raw milk donated to the inventory (mL)\n",
        "process_cap = 40000 # the maximum volume of raw milk that can be processed to bottled milk within a week (mL)\n",
        "contaminated_frac = 0.05 # the approximate fraction of processed milk that is thrown out each week due to contamination\n",
        "bottle_vol = 100 # the volume of processed milk in one bottle (mL)\n",
        "min_stored_bottles = 50 # the minimum number of processed milk bottles that must be kept in the milk bank inventory\n",
        "\n",
        "# initialize the proper values for week 1 to make sure the model starts correctly\n",
        "\n",
        "model.iRV[1].fix(init_raw_vol) # initialize the correct starting raw volume\n",
        "model.iBV[1].fix(init_bot_vol) # initialize the correct starting bottled volume\n",
        "\n",
        "# constraint 1. the final raw volume of each week is equal to the starting raw volume of that week minus the volume processed during that week\n",
        "\n",
        "def Raw_Volume_Rule(m, w):\n",
        "    return m.fRV[w] == m.iRV[w] - m.Process[w] * bottle_vol\n",
        "model.Raw_Volume = Constraint(model.WEEKS, rule = Raw_Volume_Rule)\n",
        "\n",
        "# constraint 2. the final bottled volume of each week is equal to 95% (after discarding) of the initial bottled volume added to the processed volume\n",
        "\n",
        "def Bottled_Volume_Rule(m, w):\n",
        "    return m.fBV[w] == (1 - contaminated_frac) * (m.iBV[w] + m.Process[w] * bottle_vol)\n",
        "model.Bottled_Volume = Constraint(model.WEEKS, rule = Bottled_Volume_Rule)\n",
        "\n",
        "# constraint 3. the total stored volume at the end of each week is fBV[w] + iBV[w]\n",
        "\n",
        "def Total_Volume_Rule(m, w):\n",
        "    return m.fTV[w] == m.fRV[w] + m.fBV[w]\n",
        "model.Total_Volume = Constraint(model.WEEKS, rule = Total_Volume_Rule)\n",
        "\n",
        "# constraint 4. the total weekly demand of the NICUs must be satisfied\n",
        "\n",
        "def NICU_Demand_Rule(m, w):\n",
        "    return m.Output[w] >= m.demand[w]\n",
        "model.NICU_Demand = Constraint(model.WEEKS, rule = NICU_Demand_Rule)\n",
        "\n",
        "# constraint 4. we cannot output more processed milk than we actually have\n",
        "\n",
        "def Milk_Restriction_Rule(m, w):\n",
        "    return m.Output[w] <= m.fRV[w]\n",
        "model.Milk_Restriction = Constraint(model.WEEKS, rule = Milk_Restriction_Rule)\n",
        "\n",
        "# constraint 5. the milk bank receives a weekly donation of 35 L of raw milk\n",
        "\n",
        "def Weekly_Donation_Rule(m, w):\n",
        "    if w < len(weekly_demand):\n",
        "        return m.iRV[w + 1] == m.fRV[w] + raw_donation\n",
        "    return Constraint.Skip\n",
        "model.Weekly_Donation = Constraint(model.WEEKS, rule = Weekly_Donation_Rule)\n",
        "\n",
        "# constraint 6. the stored bottled volume at the start of each week depends on how much was shipped out in the previous week\n",
        "\n",
        "def Stored_Bottles_Rule(m, w):\n",
        "    if w < len(weekly_demand):\n",
        "        return m.iBV[w + 1] == m.iBV[w] - m.Output[w] * bottle_vol\n",
        "    return Constraint.Skip\n",
        "model.Stored_Bottles = Constraint(model.WEEKS, rule = Stored_Bottles_Rule)\n",
        "\n",
        "# constraint 7. the total stored volume of processed milk cannot drop below 50 bottles (or 5 L)\n",
        "\n",
        "def Min_Inventory_Rule(m, w):\n",
        "    if w < len(weekly_demand):\n",
        "        return m.iBV[w + 1] >= min_stored_bottles * bottle_vol\n",
        "    else:\n",
        "        return m.fBV[w] >= min_stored_bottles * bottle_vol\n",
        "model.Min_Inventory = Constraint(model.WEEKS, rule = Min_Inventory_Rule)\n",
        "\n",
        "# constraint 8. we cannot output so much in week w that we do not have enough left to meet the demand of week w + 1\n",
        "\n",
        "def Proactive_Planning_Rule(m, w):\n",
        "    if w < len(weekly_demand):\n",
        "        leftover_vol = m.fTV[w] - m.Output[w] * bottle_vol + (1 - contaminated_frac) * raw_donation\n",
        "        return leftover_vol >= m.demand[w + 1] * bottle_vol\n",
        "    return Constraint.Skip\n",
        "model.Proactive_Planning = Constraint(model.WEEKS, rule = Proactive_Planning_Rule)\n",
        "\n",
        "# constraint 9. we do not exceed our processing capacity\n",
        "\n",
        "def Processing_Capacity_Rule(m, w):\n",
        "    return m.Process[w] <= process_cap\n",
        "model.Processing_Capacity = Constraint(model.WEEKS, rule = Processing_Capacity_Rule)\n",
        "\n",
        "# objective function. we seek to maximize the total output over all 12 weeks in the delivery schedule\n",
        "\n",
        "def Total_Output_Rule(m):\n",
        "    return sum(m.Output[w] for w in m.WEEKS)\n",
        "model.Total_Output = Objective(rule = Total_Output_Rule, sense = maximize)\n",
        "\n",
        "# select a solver and solve the optimization problem\n",
        "\n",
        "solver = SolverFactory('glpk')\n",
        "solution = solver.solve(model, tee = True)\n",
        "print(solution['Solver'])"
      ],
      "metadata": {
        "colab": {
          "base_uri": "https://localhost:8080/"
        },
        "id": "8a19qaeRv6A3",
        "outputId": "c0634b8e-4367-48ac-f0ef-6248fd497815"
      },
      "execution_count": 8,
      "outputs": [
        {
          "output_type": "stream",
          "name": "stdout",
          "text": [
            "GLPSOL--GLPK LP/MIP Solver 5.0\n",
            "Parameter(s) specified in the command line:\n",
            " --write /tmp/tmp4su3vyk4.glpk.raw --wglp /tmp/tmp5d71a0s0.glpk.glp --cpxlp\n",
            " /tmp/tmptoqe28iv.pyomo.lp\n",
            "Reading problem data from '/tmp/tmptoqe28iv.pyomo.lp'...\n",
            "117 rows, 82 columns, 242 non-zeros\n",
            "12 integer variables, none of which are binary\n",
            "709 lines were read\n",
            "Writing problem data to '/tmp/tmp5d71a0s0.glpk.glp'...\n",
            "611 lines were written\n",
            "GLPK Integer Optimizer 5.0\n",
            "117 rows, 82 columns, 242 non-zeros\n",
            "12 integer variables, none of which are binary\n",
            "Preprocessing...\n",
            "PROBLEM HAS NO PRIMAL FEASIBLE SOLUTION\n",
            "Time used:   0.0 secs\n",
            "Memory used: 0.1 Mb (94292 bytes)\n",
            "Writing MIP solution to '/tmp/tmp4su3vyk4.glpk.raw'...\n",
            "208 lines were written\n",
            "\n",
            "- Status: ok\n",
            "  Termination condition: infeasible\n",
            "  Statistics: \n",
            "    Branch and bound: \n",
            "      Number of bounded subproblems: 0\n",
            "      Number of created subproblems: 0\n",
            "  Error rc: 0\n",
            "  Time: 0.024408817291259766\n",
            "\n"
          ]
        }
      ]
    },
    {
      "cell_type": "markdown",
      "source": [
        "# Dependencies\n",
        "\n",
        "Load the code blocks in this section to ensure that all solvers are imported correctly."
      ],
      "metadata": {
        "id": "J0YpLO-B4LMt"
      }
    },
    {
      "cell_type": "code",
      "source": [
        "# install conda\n",
        "!pip install -q condacolab\n",
        "import condacolab\n",
        "condacolab.install()\n",
        "\n",
        "# install GLPK\n",
        "!conda install -c conda-forge glpk --yes\n",
        "\n",
        "# install IPOPT with conda\n",
        "!conda install -c conda-forge ipopt --yes"
      ],
      "metadata": {
        "colab": {
          "base_uri": "https://localhost:8080/"
        },
        "id": "eSDQhgWVxZWh",
        "outputId": "aad5f623-cd7d-4ac3-c9bc-8b98cc21af03"
      },
      "execution_count": 4,
      "outputs": [
        {
          "output_type": "stream",
          "name": "stdout",
          "text": [
            "✨🍰✨ Everything looks OK!\n",
            "Channels:\n",
            " - conda-forge\n",
            "Platform: linux-64\n",
            "Collecting package metadata (repodata.json): - \b\b\\ \b\b| \b\b/ \b\b- \b\b\\ \b\b| \b\b/ \b\b- \b\b\\ \b\b| \b\b/ \b\b- \b\bdone\n",
            "Solving environment: | \b\b/ \b\b- \b\b\\ \b\bdone\n",
            "\n",
            "\n",
            "==> WARNING: A newer version of conda exists. <==\n",
            "    current version: 23.11.0\n",
            "    latest version: 24.9.2\n",
            "\n",
            "Please update conda by running\n",
            "\n",
            "    $ conda update -n base -c conda-forge conda\n",
            "\n",
            "\n",
            "\n",
            "# All requested packages already installed.\n",
            "\n",
            "Channels:\n",
            " - conda-forge\n",
            "Platform: linux-64\n",
            "Collecting package metadata (repodata.json): - \b\b\\ \b\b| \b\b/ \b\b- \b\b\\ \b\b| \b\b/ \b\b- \b\b\\ \b\b| \b\b/ \b\bdone\n",
            "Solving environment: \\ \b\b| \b\b/ \b\b- \b\bdone\n",
            "\n",
            "\n",
            "==> WARNING: A newer version of conda exists. <==\n",
            "    current version: 23.11.0\n",
            "    latest version: 24.9.2\n",
            "\n",
            "Please update conda by running\n",
            "\n",
            "    $ conda update -n base -c conda-forge conda\n",
            "\n",
            "\n",
            "\n",
            "# All requested packages already installed.\n",
            "\n"
          ]
        }
      ]
    },
    {
      "cell_type": "code",
      "source": [
        "pip install numpy pandas pyomo gurobipy"
      ],
      "metadata": {
        "colab": {
          "base_uri": "https://localhost:8080/"
        },
        "id": "PBftJZ3guFfV",
        "outputId": "84c21dbf-7806-49f4-f5e2-4a65751e5efe"
      },
      "execution_count": 5,
      "outputs": [
        {
          "output_type": "stream",
          "name": "stdout",
          "text": [
            "Requirement already satisfied: numpy in /usr/local/lib/python3.10/site-packages (2.1.3)\n",
            "Requirement already satisfied: pandas in /usr/local/lib/python3.10/site-packages (2.2.3)\n",
            "Requirement already satisfied: pyomo in /usr/local/lib/python3.10/site-packages (6.8.0)\n",
            "Requirement already satisfied: gurobipy in /usr/local/lib/python3.10/site-packages (12.0.0)\n",
            "Requirement already satisfied: python-dateutil>=2.8.2 in /usr/local/lib/python3.10/site-packages (from pandas) (2.9.0.post0)\n",
            "Requirement already satisfied: pytz>=2020.1 in /usr/local/lib/python3.10/site-packages (from pandas) (2024.2)\n",
            "Requirement already satisfied: tzdata>=2022.7 in /usr/local/lib/python3.10/site-packages (from pandas) (2024.2)\n",
            "Requirement already satisfied: ply in /usr/local/lib/python3.10/site-packages (from pyomo) (3.11)\n",
            "Requirement already satisfied: six>=1.5 in /usr/local/lib/python3.10/site-packages (from python-dateutil>=2.8.2->pandas) (1.16.0)\n"
          ]
        }
      ]
    },
    {
      "cell_type": "code",
      "source": [],
      "metadata": {
        "id": "1nvh7rjd3gtc"
      },
      "execution_count": null,
      "outputs": []
    }
  ]
}